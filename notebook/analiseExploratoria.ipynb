{
 "cells": [
  {
   "cell_type": "markdown",
   "id": "dae1584d",
   "metadata": {},
   "source": [
    "# Importação das bibliotecas"
   ]
  },
  {
   "cell_type": "code",
   "execution_count": 1,
   "id": "fda0d74d",
   "metadata": {},
   "outputs": [],
   "source": [
    "import pandas as pd\n",
    "import matplotlib.pyplot as plt\n",
    "import statistics as sts\n",
    "import sys\n",
    "sys.path.append(\"../\")"
   ]
  },
  {
   "cell_type": "markdown",
   "id": "c3cb4cb7",
   "metadata": {},
   "source": [
    "# Carregamento do dataset"
   ]
  },
  {
   "cell_type": "code",
   "execution_count": 8,
   "id": "dee159a0",
   "metadata": {},
   "outputs": [],
   "source": [
    "df = pd.read_csv('../data/tempo.csv', sep=\";\")"
   ]
  },
  {
   "cell_type": "markdown",
   "id": "f4b79b36",
   "metadata": {},
   "source": [
    "## Inicio da analise exploratoria"
   ]
  },
  {
   "cell_type": "code",
   "execution_count": 43,
   "id": "e715c404",
   "metadata": {},
   "outputs": [
    {
     "name": "stdout",
     "output_type": "stream",
     "text": [
      "<class 'pandas.core.frame.DataFrame'>\n",
      "RangeIndex: 14 entries, 0 to 13\n",
      "Data columns (total 5 columns):\n",
      " #   Column       Non-Null Count  Dtype  \n",
      "---  ------       --------------  -----  \n",
      " 0   Aparencia    14 non-null     object \n",
      " 1   Temperatura  14 non-null     int64  \n",
      " 2   Umidade      14 non-null     float64\n",
      " 3   Vento        14 non-null     object \n",
      " 4   Jogar        14 non-null     object \n",
      "dtypes: float64(1), int64(1), object(3)\n",
      "memory usage: 692.0+ bytes\n",
      "Index(['Aparencia', 'Temperatura', 'Umidade', 'Vento', 'Jogar'], dtype='object')\n",
      "None\n",
      "o dataset possui nº de registro em (registros, caracteristicas) (14, 5)\n"
     ]
    }
   ],
   "source": [
    "colunas = df.columns\n",
    "dados = df.info()\n",
    "informacao = df.shape\n",
    "print(colunas)\n",
    "print(dados)\n",
    "print(f\"o dataset possui nº de registro em (registros, caracteristicas) {informacao}\")"
   ]
  },
  {
   "cell_type": "code",
   "execution_count": 12,
   "id": "551f6b42",
   "metadata": {},
   "outputs": [
    {
     "data": {
      "text/html": [
       "<div>\n",
       "<style scoped>\n",
       "    .dataframe tbody tr th:only-of-type {\n",
       "        vertical-align: middle;\n",
       "    }\n",
       "\n",
       "    .dataframe tbody tr th {\n",
       "        vertical-align: top;\n",
       "    }\n",
       "\n",
       "    .dataframe thead th {\n",
       "        text-align: right;\n",
       "    }\n",
       "</style>\n",
       "<table border=\"1\" class=\"dataframe\">\n",
       "  <thead>\n",
       "    <tr style=\"text-align: right;\">\n",
       "      <th></th>\n",
       "      <th>Aparencia</th>\n",
       "      <th>Temperatura</th>\n",
       "      <th>Umidade</th>\n",
       "      <th>Vento</th>\n",
       "      <th>Jogar</th>\n",
       "    </tr>\n",
       "  </thead>\n",
       "  <tbody>\n",
       "    <tr>\n",
       "      <th>0</th>\n",
       "      <td>sol</td>\n",
       "      <td>85</td>\n",
       "      <td>85.0</td>\n",
       "      <td>FALSO</td>\n",
       "      <td>nao</td>\n",
       "    </tr>\n",
       "    <tr>\n",
       "      <th>1</th>\n",
       "      <td>sol</td>\n",
       "      <td>80</td>\n",
       "      <td>90.0</td>\n",
       "      <td>VERDADEIRO</td>\n",
       "      <td>nao</td>\n",
       "    </tr>\n",
       "    <tr>\n",
       "      <th>2</th>\n",
       "      <td>nublado</td>\n",
       "      <td>83</td>\n",
       "      <td>86.0</td>\n",
       "      <td>FALSO</td>\n",
       "      <td>sim</td>\n",
       "    </tr>\n",
       "    <tr>\n",
       "      <th>3</th>\n",
       "      <td>chuva</td>\n",
       "      <td>70</td>\n",
       "      <td>NaN</td>\n",
       "      <td>FALSO</td>\n",
       "      <td>sim</td>\n",
       "    </tr>\n",
       "    <tr>\n",
       "      <th>4</th>\n",
       "      <td>chuva</td>\n",
       "      <td>68</td>\n",
       "      <td>80.0</td>\n",
       "      <td>FALSO</td>\n",
       "      <td>sim</td>\n",
       "    </tr>\n",
       "  </tbody>\n",
       "</table>\n",
       "</div>"
      ],
      "text/plain": [
       "  Aparencia  Temperatura  Umidade       Vento Jogar\n",
       "0       sol           85     85.0       FALSO   nao\n",
       "1       sol           80     90.0  VERDADEIRO   nao\n",
       "2   nublado           83     86.0       FALSO   sim\n",
       "3     chuva           70      NaN       FALSO   sim\n",
       "4     chuva           68     80.0       FALSO   sim"
      ]
     },
     "execution_count": 12,
     "metadata": {},
     "output_type": "execute_result"
    }
   ],
   "source": [
    "df.head()"
   ]
  },
  {
   "cell_type": "markdown",
   "id": "ea7d9ec8",
   "metadata": {},
   "source": [
    "### Tratamento dos valor 'null'"
   ]
  },
  {
   "cell_type": "code",
   "execution_count": 44,
   "id": "e0a05952",
   "metadata": {},
   "outputs": [
    {
     "data": {
      "text/plain": [
       "Aparencia      0\n",
       "Temperatura    0\n",
       "Umidade        0\n",
       "Vento          0\n",
       "Jogar          0\n",
       "dtype: int64"
      ]
     },
     "execution_count": 44,
     "metadata": {},
     "output_type": "execute_result"
    }
   ],
   "source": [
    "df.isnull().sum()"
   ]
  },
  {
   "cell_type": "code",
   "execution_count": 32,
   "id": "461d3358",
   "metadata": {},
   "outputs": [
    {
     "name": "stdout",
     "output_type": "stream",
     "text": [
      "Empty DataFrame\n",
      "Columns: [Aparencia, Temperatura, Umidade, Vento, Jogar]\n",
      "Index: []\n"
     ]
    }
   ],
   "source": [
    "faltante= df[\"Umidade\"].isnull()\n",
    "print(df[faltante])"
   ]
  },
  {
   "cell_type": "code",
   "execution_count": 28,
   "id": "a7dc5926",
   "metadata": {},
   "outputs": [
    {
     "name": "stdout",
     "output_type": "stream",
     "text": [
      "85.5\n"
     ]
    }
   ],
   "source": [
    "df['Umidade'].describe()\n",
    "mediana = sts.median(df['Umidade'])\n",
    "print(mediana)"
   ]
  },
  {
   "cell_type": "code",
   "execution_count": 30,
   "id": "a93e8d9e",
   "metadata": {},
   "outputs": [],
   "source": [
    "df.loc[df[\"Umidade\"].isnull(), \"Umidade\"] = mediana"
   ]
  },
  {
   "cell_type": "code",
   "execution_count": 34,
   "id": "ad816350",
   "metadata": {},
   "outputs": [
    {
     "name": "stdout",
     "output_type": "stream",
     "text": [
      "  Aparencia  Temperatura  Umidade Vento Jogar\n",
      "9     chuva           75    200.0   NaN   sim\n"
     ]
    }
   ],
   "source": [
    "faltante = df['Vento'].isnull()\n",
    "print(df[faltante])"
   ]
  },
  {
   "cell_type": "code",
   "execution_count": 42,
   "id": "ae779992",
   "metadata": {},
   "outputs": [
    {
     "data": {
      "text/plain": [
       "Vento\n",
       "FALSO         8\n",
       "VERDADEIRO    6\n",
       "dtype: int64"
      ]
     },
     "execution_count": 42,
     "metadata": {},
     "output_type": "execute_result"
    }
   ],
   "source": [
    "df.groupby(df['Vento']).size()"
   ]
  },
  {
   "cell_type": "code",
   "execution_count": 41,
   "id": "46f398d2",
   "metadata": {},
   "outputs": [],
   "source": [
    "df.loc[df[\"Vento\"].isnull(), \"Vento\"] = 'FALSO'"
   ]
  },
  {
   "cell_type": "markdown",
   "id": "f65fc647",
   "metadata": {},
   "source": [
    "### Tratamento de outlier\n",
    "\n",
    "* temperatura descrita em fahrenheit"
   ]
  },
  {
   "cell_type": "code",
   "execution_count": 52,
   "id": "6a69d9f2",
   "metadata": {},
   "outputs": [
    {
     "data": {
      "text/plain": [
       "count    14.000000\n",
       "mean     73.678571\n",
       "std       6.556286\n",
       "min      64.000000\n",
       "25%      69.250000\n",
       "50%      72.750000\n",
       "75%      78.750000\n",
       "max      85.000000\n",
       "Name: Temperatura, dtype: float64"
      ]
     },
     "execution_count": 52,
     "metadata": {},
     "output_type": "execute_result"
    }
   ],
   "source": [
    "df[\"Temperatura\"].describe()"
   ]
  },
  {
   "cell_type": "code",
   "execution_count": 49,
   "id": "65b0e251",
   "metadata": {},
   "outputs": [
    {
     "data": {
      "text/html": [
       "<div>\n",
       "<style scoped>\n",
       "    .dataframe tbody tr th:only-of-type {\n",
       "        vertical-align: middle;\n",
       "    }\n",
       "\n",
       "    .dataframe tbody tr th {\n",
       "        vertical-align: top;\n",
       "    }\n",
       "\n",
       "    .dataframe thead th {\n",
       "        text-align: right;\n",
       "    }\n",
       "</style>\n",
       "<table border=\"1\" class=\"dataframe\">\n",
       "  <thead>\n",
       "    <tr style=\"text-align: right;\">\n",
       "      <th></th>\n",
       "      <th>Aparencia</th>\n",
       "      <th>Temperatura</th>\n",
       "      <th>Umidade</th>\n",
       "      <th>Vento</th>\n",
       "      <th>Jogar</th>\n",
       "    </tr>\n",
       "  </thead>\n",
       "  <tbody>\n",
       "    <tr>\n",
       "      <th>7</th>\n",
       "      <td>sol</td>\n",
       "      <td>1220</td>\n",
       "      <td>95.0</td>\n",
       "      <td>FALSO</td>\n",
       "      <td>nao</td>\n",
       "    </tr>\n",
       "  </tbody>\n",
       "</table>\n",
       "</div>"
      ],
      "text/plain": [
       "  Aparencia  Temperatura  Umidade  Vento Jogar\n",
       "7       sol         1220     95.0  FALSO   nao"
      ]
     },
     "execution_count": 49,
     "metadata": {},
     "output_type": "execute_result"
    }
   ],
   "source": [
    "alta_temp = df['Temperatura'] > 125\n",
    "df[alta_temp]"
   ]
  },
  {
   "cell_type": "code",
   "execution_count": 50,
   "id": "dd2c5281",
   "metadata": {},
   "outputs": [
    {
     "data": {
      "text/plain": [
       "73.5"
      ]
     },
     "execution_count": 50,
     "metadata": {},
     "output_type": "execute_result"
    }
   ],
   "source": [
    "mediana = sts.median(df['Temperatura'])\n",
    "mediana"
   ]
  },
  {
   "cell_type": "code",
   "execution_count": 46,
   "id": "0668aa4a",
   "metadata": {},
   "outputs": [
    {
     "data": {
      "text/plain": [
       "{'whiskers': [<matplotlib.lines.Line2D at 0x202b21c64d0>,\n",
       "  <matplotlib.lines.Line2D at 0x202b21982d0>],\n",
       " 'caps': [<matplotlib.lines.Line2D at 0x202ae4e5710>,\n",
       "  <matplotlib.lines.Line2D at 0x202b189b5d0>],\n",
       " 'boxes': [<matplotlib.lines.Line2D at 0x202b21c5e90>],\n",
       " 'medians': [<matplotlib.lines.Line2D at 0x202ae484b50>],\n",
       " 'fliers': [<matplotlib.lines.Line2D at 0x202aed85310>],\n",
       " 'means': []}"
      ]
     },
     "execution_count": 46,
     "metadata": {},
     "output_type": "execute_result"
    },
    {
     "data": {
      "image/png": "[encoded data removed]",
      "text/plain": [
       "<Figure size 640x480 with 1 Axes>"
      ]
     },
     "metadata": {},
     "output_type": "display_data"
    }
   ],
   "source": [
    "plt.boxplot(df[\"Temperatura\"])"
   ]
  },
  {
   "cell_type": "code",
   "execution_count": 51,
   "id": "28630e6d",
   "metadata": {},
   "outputs": [
    {
     "name": "stderr",
     "output_type": "stream",
     "text": [
      "C:\\Users\\dyego\\AppData\\Local\\Temp\\ipykernel_26152\\521188817.py:1: FutureWarning: Setting an item of incompatible dtype is deprecated and will raise an error in a future version of pandas. Value '73.5' has dtype incompatible with int64, please explicitly cast to a compatible dtype first.\n",
      "  df.loc[df['Temperatura'] > 125, \"Temperatura\"] = mediana\n"
     ]
    }
   ],
   "source": [
    "df.loc[df['Temperatura'] > 125, \"Temperatura\"] = mediana"
   ]
  },
  {
   "cell_type": "code",
   "execution_count": 62,
   "id": "164475f5",
   "metadata": {},
   "outputs": [
    {
     "data": {
      "text/plain": [
       "count    14.000000\n",
       "mean     81.267857\n",
       "std       9.576847\n",
       "min      65.000000\n",
       "25%      71.250000\n",
       "50%      85.125000\n",
       "75%      89.000000\n",
       "max      95.000000\n",
       "Name: Umidade, dtype: float64"
      ]
     },
     "execution_count": 62,
     "metadata": {},
     "output_type": "execute_result"
    }
   ],
   "source": [
    "df['Umidade'].describe()"
   ]
  },
  {
   "cell_type": "code",
   "execution_count": 59,
   "id": "54b22937",
   "metadata": {},
   "outputs": [
    {
     "data": {
      "text/html": [
       "<div>\n",
       "<style scoped>\n",
       "    .dataframe tbody tr th:only-of-type {\n",
       "        vertical-align: middle;\n",
       "    }\n",
       "\n",
       "    .dataframe tbody tr th {\n",
       "        vertical-align: top;\n",
       "    }\n",
       "\n",
       "    .dataframe thead th {\n",
       "        text-align: right;\n",
       "    }\n",
       "</style>\n",
       "<table border=\"1\" class=\"dataframe\">\n",
       "  <thead>\n",
       "    <tr style=\"text-align: right;\">\n",
       "      <th></th>\n",
       "      <th>Aparencia</th>\n",
       "      <th>Temperatura</th>\n",
       "      <th>Umidade</th>\n",
       "      <th>Vento</th>\n",
       "      <th>Jogar</th>\n",
       "    </tr>\n",
       "  </thead>\n",
       "  <tbody>\n",
       "    <tr>\n",
       "      <th>9</th>\n",
       "      <td>chuva</td>\n",
       "      <td>75.0</td>\n",
       "      <td>200.0</td>\n",
       "      <td>FALSO</td>\n",
       "      <td>sim</td>\n",
       "    </tr>\n",
       "  </tbody>\n",
       "</table>\n",
       "</div>"
      ],
      "text/plain": [
       "  Aparencia  Temperatura  Umidade  Vento Jogar\n",
       "9     chuva         75.0    200.0  FALSO   sim"
      ]
     },
     "execution_count": 59,
     "metadata": {},
     "output_type": "execute_result"
    }
   ],
   "source": [
    "umidade = df['Umidade'] > 100\n",
    "df[umidade]"
   ]
  },
  {
   "cell_type": "code",
   "execution_count": 60,
   "id": "536e08f8",
   "metadata": {},
   "outputs": [
    {
     "data": {
      "text/plain": [
       "85.25"
      ]
     },
     "execution_count": 60,
     "metadata": {},
     "output_type": "execute_result"
    }
   ],
   "source": [
    "mediana = sts.median(df['Umidade'])\n",
    "mediana"
   ]
  },
  {
   "cell_type": "code",
   "execution_count": 61,
   "id": "ebfb9fb7",
   "metadata": {},
   "outputs": [],
   "source": [
    "df.loc[df['Umidade'] > 100, \"Umidade\"] = mediana"
   ]
  },
  {
   "cell_type": "code",
   "execution_count": 65,
   "id": "a932163e",
   "metadata": {},
   "outputs": [
    {
     "data": {
      "text/plain": [
       "{'whiskers': [<matplotlib.lines.Line2D at 0x202b4f86610>,\n",
       "  <matplotlib.lines.Line2D at 0x202b4f86f10>],\n",
       " 'caps': [<matplotlib.lines.Line2D at 0x202b4f87950>,\n",
       "  <matplotlib.lines.Line2D at 0x202b4f8ce90>],\n",
       " 'boxes': [<matplotlib.lines.Line2D at 0x202b4f85d10>],\n",
       " 'medians': [<matplotlib.lines.Line2D at 0x202b4f8ca10>],\n",
       " 'fliers': [<matplotlib.lines.Line2D at 0x202b4f8d550>],\n",
       " 'means': []}"
      ]
     },
     "execution_count": 65,
     "metadata": {},
     "output_type": "execute_result"
    },
    {
     "data": {
      "image/png": "[encoded data removed]",
      "text/plain": [
       "<Figure size 640x480 with 1 Axes>"
      ]
     },
     "metadata": {},
     "output_type": "display_data"
    }
   ],
   "source": [
    "plt.boxplot(df['Umidade'])"
   ]
  },
  {
   "cell_type": "code",
   "execution_count": null,
   "id": "93c9dfeb",
   "metadata": {},
   "outputs": [],
   "source": []
  }
 ],
 "metadata": {
  "kernelspec": {
   "display_name": "AED",
   "language": "python",
   "name": "python3"
  },
  "language_info": {
   "codemirror_mode": {
    "name": "ipython",
    "version": 3
   },
   "file_extension": ".py",
   "mimetype": "text/x-python",
   "name": "python",
   "nbconvert_exporter": "python",
   "pygments_lexer": "ipython3",
   "version": "3.11.3"
  }
 },
 "nbformat": 4,
 "nbformat_minor": 5
}
